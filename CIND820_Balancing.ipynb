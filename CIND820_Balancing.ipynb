{
  "nbformat": 4,
  "nbformat_minor": 0,
  "metadata": {
    "colab": {
      "provenance": [],
      "authorship_tag": "ABX9TyNm6qW7fJDcli/K0Ues1l1g",
      "include_colab_link": true
    },
    "kernelspec": {
      "name": "python3",
      "display_name": "Python 3"
    },
    "language_info": {
      "name": "python"
    }
  },
  "cells": [
    {
      "cell_type": "markdown",
      "metadata": {
        "id": "view-in-github",
        "colab_type": "text"
      },
      "source": [
        "<a href=\"https://colab.research.google.com/github/PenelopeRosswillTMU/CIND820_Capstone/blob/main/CIND820_Balancing.ipynb\" target=\"_parent\"><img src=\"https://colab.research.google.com/assets/colab-badge.svg\" alt=\"Open In Colab\"/></a>"
      ]
    },
    {
      "cell_type": "code",
      "execution_count": 33,
      "metadata": {
        "id": "VuOlzOfv3-i2"
      },
      "outputs": [],
      "source": [
        "#!pip install imbalanced-learn\n",
        "import imblearn as imb\n",
        "from imblearn import over_sampling, under_sampling\n",
        "from imblearn.over_sampling import RandomOverSampler\n",
        "from imblearn.under_sampling import RandomUnderSampler\n",
        "import numpy as np\n",
        "import pandas as pd\n",
        "import seaborn as sns\n",
        "from sklearn import preprocessing\n",
        "from collections import Counter"
      ]
    },
    {
      "cell_type": "code",
      "source": [
        "#uploading datasets\n",
        "\n",
        "block1_url = 'https://raw.githubusercontent.com/PenelopeRosswillTMU/CIND820_Capstone/main/block_1.csv'\n",
        "DF_block1 = pd.read_csv(block1_url)\n",
        "\n",
        "block2_url = 'https://raw.githubusercontent.com/PenelopeRosswillTMU/CIND820_Capstone/main/block_2.csv'\n",
        "DF_block2 = pd.read_csv(block2_url)\n",
        "\n",
        "block3_url = 'https://raw.githubusercontent.com/PenelopeRosswillTMU/CIND820_Capstone/main/block_3.csv'\n",
        "DF_block3 = pd.read_csv(block3_url)\n",
        "\n",
        "block5_url = 'https://raw.githubusercontent.com/PenelopeRosswillTMU/CIND820_Capstone/main/block_5.csv'\n",
        "DF_block5 = pd.read_csv(block5_url)\n",
        "\n",
        "DF_block1.columns = ['id','How many years have you lived in Montreal?','What age group are you in?','How do you identify yourself?','Do you identify as a trans person, or have you had a trans background at some point in your life?','What is your sexual orientation?','What is your last level of studies completed?','What language do you speak most often at home?','Are you a visible minority? (Definition from the Ministry of Immigration, Diversity and Inclusion )','Are you part of an ethnocultural minority? (Definition from the Ministry of Immigration, Diversity and Inclusion)','Are you a member of a First Nation or Inuit Nation?','What is the income of your household (that is, of all the people residing with you, including yourself)?','Do you agree with this statement: “in general, the services of the Ville de Montréal meet my needs”?','Do you agree with this statement: \"The fear of being subjected to unfavorable or differential treatment\" because of my gender identity and expression or my sexual orientation constitutes an obstacle to the use of one or more services of the City of Montreal”?','q6 Attribute','Specify for which service(s). Check all that apply:','q7 Attribute','Do you find that you have easy access to services adapted to your needs in Montreal? Please note that some of these services are offered by parties other than the Ville de Montréal.','q8 Attribute','Do you have to travel a long distance (more than 5 km) to access services adapted to your needs in Montreal? Please note that some of these services are offered by parties other than the Ville de Montréal.',]\n",
        "DF_block2.columns = ['id','How many years have you lived in Montreal?','What age group are you in?','How do you identify yourself?','Do you identify as a trans person, or have you had a trans background at some point in your life?','What is your sexual orientation?','What is your last level of studies completed?','What language do you speak most often at home?','Are you a visible minority? (Definition from the Ministry of Immigration, Diversity and Inclusion )','Are you part of an ethnocultural minority? (Definition from the Ministry of Immigration, Diversity and Inclusion)','Are you a member of a First Nation or Inuit Nation?','What is the income of your household (that is, of all the people residing with you, including yourself)?','Do you agree with this statement: “in general, I feel comfortable being myself in my daily activities in Montreal”?','q10 Attribute','In the past two years, have you experienced unfavorable or differential treatment because of your gender identity and expression or your sexual orientation? Check all that apply. Please note that some of these services are offered by parties other than the Ville de Montréal.','q11 Attribute','Give your level of agreement with each of the following statements regarding the Montreal reality. Please note that some of these services are not offered by the City of Montreal.','Do LGBTQ+ communities have enough visibility in the public space?']\n",
        "DF_block3.columns = ['id','How many years have you lived in Montreal?','What age group are you in?','How do you identify yourself?','Do you identify as a trans person, or have you had a trans background at some point in your life?','What is your sexual orientation?','What is your last level of studies completed?','What language do you speak most often at home?','Are you a visible minority? (Definition from the Ministry of Immigration, Diversity and Inclusion )','Are you part of an ethnocultural minority? (Definition from the Ministry of Immigration, Diversity and Inclusion)','Are you a member of a First Nation or Inuit Nation?','What is the income of your household (that is, of all the people residing with you, including yourself)?','Do you ever feel unsafe in Montreal?','q14 Attribute','In the past two years, have you experienced any of the following behaviors because of your gender identity and expression or sexual orientation? Check all that apply.','q15 Attribute','If you have e xperienced any o f these b ehaviors, please indicate where. Check all that apply.','q17 Attribute','If you did not file a complaint, why? Check all that apply.']\n",
        "DF_block5.columns = ['id','How many years have you lived in Montreal?','What age group are you in?','How do you identify yourself?','Do you identify as a trans person, or have you had a trans background at some point in your life?','What is your sexual orientation?','What is your last level of studies completed?','What language do you speak most often at home?','Are you a visible minority? (Definition from the Ministry of Immigration, Diversity and Inclusion )','Are you part of an ethnocultural minority? (Definition from the Ministry of Immigration, Diversity and Inclusion)','Are you a member of a First Nation or Inuit Nation?','What is the income of your household (that is, of all the people residing with you, including yourself)?','q22 Attribute','How can the City better support Montreals LGBTQ+ communities? Number each of the following courses of action from 1 to 10. You must assign a different rank to each action track.','q23 Attribute','How can the City give more visibility to LGBTQ+ communities in the public space? Check all that apply.']\n"
      ],
      "metadata": {
        "id": "O1CSkXkb6LKg"
      },
      "execution_count": 10,
      "outputs": []
    },
    {
      "cell_type": "code",
      "source": [
        "b1_clean = DF_block1[DF_block1['Do you identify as a trans person, or have you had a trans background at some point in your life?'] != 'Je prÃ©fÃ¨re ne pas rÃ©pondre']\n",
        "print(sorted(Counter(b1_clean['Do you identify as a trans person, or have you had a trans background at some point in your life?']).items()))\n",
        "\n",
        "b1_yes = b1_clean[b1_clean['Do you identify as a trans person, or have you had a trans background at some point in your life?'] == 'Oui']\n",
        "b1_no = b1_clean[b1_clean['Do you identify as a trans person, or have you had a trans background at some point in your life?'] == 'Non']\n",
        "print(b1_yes.shape,b1_no.shape)"
      ],
      "metadata": {
        "colab": {
          "base_uri": "https://localhost:8080/"
        },
        "id": "vlr3hz5l8PPL",
        "outputId": "5f840391-f3ea-4440-e76d-fb054e3064ba"
      },
      "execution_count": 30,
      "outputs": [
        {
          "output_type": "stream",
          "name": "stdout",
          "text": [
            "[('Non', 13075), ('Oui', 7000)]\n",
            "(7000, 20) (13075, 20)\n"
          ]
        }
      ]
    },
    {
      "cell_type": "code",
      "source": [
        "x = b1_clean\n",
        "y = b1_clean['Do you identify as a trans person, or have you had a trans background at some point in your life?']\n",
        "\n",
        "x.drop('id',axis=1,inplace=True)\n",
        "x.drop('Do you identify as a trans person, or have you had a trans background at some point in your life?',axis=1,inplace=True)\n",
        "x.columns"
      ],
      "metadata": {
        "colab": {
          "base_uri": "https://localhost:8080/"
        },
        "id": "KmRIl1fUAHPz",
        "outputId": "64d15cb9-95d8-47ad-d7d4-59b7b9dca4a1"
      },
      "execution_count": 31,
      "outputs": [
        {
          "output_type": "stream",
          "name": "stderr",
          "text": [
            "<ipython-input-31-3cc1c05e497d>:4: SettingWithCopyWarning: \n",
            "A value is trying to be set on a copy of a slice from a DataFrame\n",
            "\n",
            "See the caveats in the documentation: https://pandas.pydata.org/pandas-docs/stable/user_guide/indexing.html#returning-a-view-versus-a-copy\n",
            "  x.drop('id',axis=1,inplace=True)\n",
            "<ipython-input-31-3cc1c05e497d>:5: SettingWithCopyWarning: \n",
            "A value is trying to be set on a copy of a slice from a DataFrame\n",
            "\n",
            "See the caveats in the documentation: https://pandas.pydata.org/pandas-docs/stable/user_guide/indexing.html#returning-a-view-versus-a-copy\n",
            "  x.drop('Do you identify as a trans person, or have you had a trans background at some point in your life?',axis=1,inplace=True)\n"
          ]
        },
        {
          "output_type": "execute_result",
          "data": {
            "text/plain": [
              "Index(['How many years have you lived in Montreal?',\n",
              "       'What age group are you in?', 'How do you identify yourself?',\n",
              "       'What is your sexual orientation?',\n",
              "       'What is your last level of studies completed?',\n",
              "       'What language do you speak most often at home?',\n",
              "       'Are you a visible minority? (Definition from the Ministry of Immigration, Diversity and Inclusion )',\n",
              "       'Are you part of an ethnocultural minority? (Definition from the Ministry of Immigration, Diversity and Inclusion)',\n",
              "       'Are you a member of a First Nation or Inuit Nation?',\n",
              "       'What is the income of your household (that is, of all the people residing with you, including yourself)?',\n",
              "       'Do you agree with this statement: “in general, the services of the Ville de Montréal meet my needs”?',\n",
              "       'Do you agree with this statement: \"The fear of being subjected to unfavorable or differential treatment\" because of my gender identity and expression or my sexual orientation constitutes an obstacle to the use of one or more services of the City of Montreal”?',\n",
              "       'q6 Attribute', 'Specify for which service(s). Check all that apply:',\n",
              "       'q7 Attribute',\n",
              "       'Do you find that you have easy access to services adapted to your needs in Montreal? Please note that some of these services are offered by parties other than the Ville de Montréal.',\n",
              "       'q8 Attribute',\n",
              "       'Do you have to travel a long distance (more than 5 km) to access services adapted to your needs in Montreal? Please note that some of these services are offered by parties other than the Ville de Montréal.'],\n",
              "      dtype='object')"
            ]
          },
          "metadata": {},
          "execution_count": 31
        }
      ]
    },
    {
      "cell_type": "code",
      "source": [
        "ros = RandomOverSampler(random_state=0)\n",
        "x_resampled,y_resampled = ros.fit_resample(x,y)\n",
        "print(sorted(Counter(y_resampled).items()),y_resampled.shape)"
      ],
      "metadata": {
        "colab": {
          "base_uri": "https://localhost:8080/"
        },
        "id": "gCCjZL4lBN49",
        "outputId": "048dd0af-6fa8-45ef-a980-7b8fc92c6d70"
      },
      "execution_count": 37,
      "outputs": [
        {
          "output_type": "stream",
          "name": "stdout",
          "text": [
            "[('Non', 13075), ('Oui', 13075)] (26150,)\n",
            "  How many years have you lived in Montreal?  ... Do you have to travel a long distance (more than 5 km) to access services adapted to your needs in Montreal? Please note that some of these services are offered by parties other than the Ville de Montréal.\n",
            "0                                4 Ã  10 ans  ...                                                Non                                                                                                                                                           \n",
            "1                                4 Ã  10 ans  ...                                     Je ne sais pas                                                                                                                                                           \n",
            "2                                4 Ã  10 ans  ...                                     Je ne sais pas                                                                                                                                                           \n",
            "3                                4 Ã  10 ans  ...                                                Oui                                                                                                                                                           \n",
            "4                                4 Ã  10 ans  ...                                                Oui                                                                                                                                                           \n",
            "\n",
            "[5 rows x 18 columns]\n"
          ]
        }
      ]
    },
    {
      "cell_type": "code",
      "source": [
        "rus = RandomUnderSampler(random_state=0)\n",
        "x_resampled,y_resampled = rus.fit_resample(x,y)\n",
        "print(sorted(Counter(y_resampled).items()),y_resampled.shape)"
      ],
      "metadata": {
        "colab": {
          "base_uri": "https://localhost:8080/"
        },
        "id": "LqyCruBHCann",
        "outputId": "d326d8ed-0e6f-4b2d-b22b-1ca731cad033"
      },
      "execution_count": 38,
      "outputs": [
        {
          "output_type": "stream",
          "name": "stdout",
          "text": [
            "[('Non', 7000), ('Oui', 7000)] (14000,)\n"
          ]
        }
      ]
    }
  ]
}