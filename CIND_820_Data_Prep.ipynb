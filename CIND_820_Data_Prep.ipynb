{
  "nbformat": 4,
  "nbformat_minor": 0,
  "metadata": {
    "colab": {
      "provenance": [],
      "authorship_tag": "ABX9TyMf7RCRUQsQqJPAyuskF8SZ",
      "include_colab_link": true
    },
    "kernelspec": {
      "name": "python3",
      "display_name": "Python 3"
    },
    "language_info": {
      "name": "python"
    }
  },
  "cells": [
    {
      "cell_type": "markdown",
      "metadata": {
        "id": "view-in-github",
        "colab_type": "text"
      },
      "source": [
        "<a href=\"https://colab.research.google.com/github/PenelopeRosswillTMU/CIND820_Capstone/blob/main/CIND_820_Data_Prep.ipynb\" target=\"_parent\"><img src=\"https://colab.research.google.com/assets/colab-badge.svg\" alt=\"Open In Colab\"/></a>"
      ]
    },
    {
      "cell_type": "code",
      "execution_count": null,
      "metadata": {
        "id": "qXVwpV_57pWd"
      },
      "outputs": [],
      "source": [
        "import numpy as np\n",
        "import pandas as pd\n",
        "from collections import Counter"
      ]
    },
    {
      "cell_type": "code",
      "source": [
        "#uploading dataset\n",
        "df_url = 'https://raw.githubusercontent.com/PenelopeRosswillTMU/CIND820_Capstone/main/dataset_cleaned.csv'\n",
        "df = pd.read_csv(df_url)\n",
        "df.drop(['q10 Attribute','q11 Attribute','q14 Attribute','q17 Attribute'],axis=1,inplace=True)\n",
        "df.columns = ['id','q1','q2','q3','q4','q5','q6','q7','q8','q9','q10','q11','q12']\n",
        "questions = ['id','Do you agree with this statement: “in general, the services of the Ville de Montréal meet my needs”?','Do you agree with this statement: “in general, I feel comfortable being myself in my daily activities in Montreal”?','In the past two years, have you experienced unfavorable or differential treatment because of your gender identity and expression or your sexual orientation? Check all that apply. Please note that some of these services are offered by parties other than the Ville de Montréal.','Give your level of agreement with each of the following statements regarding the Montreal reality. Please note that some of these services are not offered by the City of Montreal.','In the past two years, have you experienced any of the following behaviors because of your gender identity and expression or sexual orientation? Check all that apply.','If you did not file a complaint, why? Check all that apply.','How many years have you lived in Montreal?','What age group are you in?','How do you identify yourself?','Do you identify as a trans person, or have you had a trans background at some point in your life?','What is your sexual orientation?','Are you a member of a First Nation or Inuit Nation?']\n",
        "question_num = ['id','q1','q2','q3','q4','q5','q6','q7','q8','q9','q10','q11','q12']\n",
        "q_ref = pd.DataFrame({'question_num':question_num,'question':questions})"
      ],
      "metadata": {
        "id": "mfvLGqnr72x-"
      },
      "execution_count": null,
      "outputs": []
    },
    {
      "cell_type": "code",
      "source": [
        "#removing rows with 'nan' values\n",
        "df = df[df['q1'].notna()]\n",
        "df = df[df['q11'].notna()]\n",
        "\n",
        "print(df.shape)"
      ],
      "metadata": {
        "colab": {
          "base_uri": "https://localhost:8080/"
        },
        "id": "WAQ2RyoD778h",
        "outputId": "9998fc1a-04e6-4147-b40f-599bf9ca70fd"
      },
      "execution_count": null,
      "outputs": [
        {
          "output_type": "stream",
          "name": "stdout",
          "text": [
            "(143932, 13)\n"
          ]
        }
      ]
    },
    {
      "cell_type": "code",
      "source": [
        "#dropping \"I don't know\" answers from the output variable to keep it to yes/no\n",
        "df = df[df['q10'] != 'Je prÃ©fÃ¨re ne pas rÃ©pondre']\n",
        "print(sorted(Counter(df['q10']).items()))\n",
        "df_yes = df[df['q10'] == 'Oui']\n",
        "df_no = df[df['q10'] == 'Non']\n",
        "print(df_yes.shape,df_no.shape)"
      ],
      "metadata": {
        "colab": {
          "base_uri": "https://localhost:8080/"
        },
        "id": "gVQWY-pr8C5J",
        "outputId": "a5674868-9ab0-4276-bcfe-d6dd88b4c4d8"
      },
      "execution_count": null,
      "outputs": [
        {
          "output_type": "stream",
          "name": "stdout",
          "text": [
            "[('Non', 87280), ('Oui', 46596)]\n",
            "(46596, 13) (87280, 13)\n"
          ]
        }
      ]
    },
    {
      "cell_type": "code",
      "source": [
        "!pip install -U deep-translator\n",
        "from deep_translator import GoogleTranslator\n",
        "import re\n",
        "\n",
        "unique_ans_fr = df['q1'].append(df['q2']).append(df['q3']).append(df['q4']).append(df['q5']).append(df['q6']).append(df['q7']).append(df['q8']).append(df['q9']).append(df['q10']).append(df['q11']).append(df['q12']).unique()\n",
        "unique_ans_en = []\n",
        "for i in range(len(unique_ans_fr)):\n",
        "  translator = GoogleTranslator(source='fr',target='en')\n",
        "  translate = translator.translate(str(unique_ans_fr[i]))\n",
        "  unique_ans_en.append(translate)"
      ],
      "metadata": {
        "colab": {
          "base_uri": "https://localhost:8080/"
        },
        "id": "cgVQw9Om8DXm",
        "outputId": "d4336455-2121-41c8-8fb7-56819917137d"
      },
      "execution_count": null,
      "outputs": [
        {
          "output_type": "stream",
          "name": "stdout",
          "text": [
            "Collecting deep-translator\n",
            "  Downloading deep_translator-1.11.4-py3-none-any.whl (42 kB)\n",
            "\u001b[?25l     \u001b[90m━━━━━━━━━━━━━━━━━━━━━━━━━━━━━━━━━━━━━━━━\u001b[0m \u001b[32m0.0/42.3 kB\u001b[0m \u001b[31m?\u001b[0m eta \u001b[36m-:--:--\u001b[0m\r\u001b[2K     \u001b[90m━━━━━━━━━━━━━━━━━━━━━━━━━━━━━━━━━━━━━━━━\u001b[0m \u001b[32m42.3/42.3 kB\u001b[0m \u001b[31m2.9 MB/s\u001b[0m eta \u001b[36m0:00:00\u001b[0m\n",
            "\u001b[?25hRequirement already satisfied: beautifulsoup4<5.0.0,>=4.9.1 in /usr/local/lib/python3.10/dist-packages (from deep-translator) (4.11.2)\n",
            "Requirement already satisfied: requests<3.0.0,>=2.23.0 in /usr/local/lib/python3.10/dist-packages (from deep-translator) (2.27.1)\n",
            "Requirement already satisfied: soupsieve>1.2 in /usr/local/lib/python3.10/dist-packages (from beautifulsoup4<5.0.0,>=4.9.1->deep-translator) (2.4.1)\n",
            "Requirement already satisfied: urllib3<1.27,>=1.21.1 in /usr/local/lib/python3.10/dist-packages (from requests<3.0.0,>=2.23.0->deep-translator) (1.26.16)\n",
            "Requirement already satisfied: certifi>=2017.4.17 in /usr/local/lib/python3.10/dist-packages (from requests<3.0.0,>=2.23.0->deep-translator) (2023.5.7)\n",
            "Requirement already satisfied: charset-normalizer~=2.0.0 in /usr/local/lib/python3.10/dist-packages (from requests<3.0.0,>=2.23.0->deep-translator) (2.0.12)\n",
            "Requirement already satisfied: idna<4,>=2.5 in /usr/local/lib/python3.10/dist-packages (from requests<3.0.0,>=2.23.0->deep-translator) (3.4)\n",
            "Installing collected packages: deep-translator\n",
            "Successfully installed deep-translator-1.11.4\n"
          ]
        },
        {
          "output_type": "stream",
          "name": "stderr",
          "text": [
            "<ipython-input-8-c5dafc58e4be>:5: FutureWarning: The series.append method is deprecated and will be removed from pandas in a future version. Use pandas.concat instead.\n",
            "  unique_ans_fr = df['q1'].append(df['q2']).append(df['q3']).append(df['q4']).append(df['q5']).append(df['q6']).append(df['q7']).append(df['q8']).append(df['q9']).append(df['q10']).append(df['q11']).append(df['q12']).unique()\n",
            "<ipython-input-8-c5dafc58e4be>:5: FutureWarning: The series.append method is deprecated and will be removed from pandas in a future version. Use pandas.concat instead.\n",
            "  unique_ans_fr = df['q1'].append(df['q2']).append(df['q3']).append(df['q4']).append(df['q5']).append(df['q6']).append(df['q7']).append(df['q8']).append(df['q9']).append(df['q10']).append(df['q11']).append(df['q12']).unique()\n",
            "<ipython-input-8-c5dafc58e4be>:5: FutureWarning: The series.append method is deprecated and will be removed from pandas in a future version. Use pandas.concat instead.\n",
            "  unique_ans_fr = df['q1'].append(df['q2']).append(df['q3']).append(df['q4']).append(df['q5']).append(df['q6']).append(df['q7']).append(df['q8']).append(df['q9']).append(df['q10']).append(df['q11']).append(df['q12']).unique()\n",
            "<ipython-input-8-c5dafc58e4be>:5: FutureWarning: The series.append method is deprecated and will be removed from pandas in a future version. Use pandas.concat instead.\n",
            "  unique_ans_fr = df['q1'].append(df['q2']).append(df['q3']).append(df['q4']).append(df['q5']).append(df['q6']).append(df['q7']).append(df['q8']).append(df['q9']).append(df['q10']).append(df['q11']).append(df['q12']).unique()\n",
            "<ipython-input-8-c5dafc58e4be>:5: FutureWarning: The series.append method is deprecated and will be removed from pandas in a future version. Use pandas.concat instead.\n",
            "  unique_ans_fr = df['q1'].append(df['q2']).append(df['q3']).append(df['q4']).append(df['q5']).append(df['q6']).append(df['q7']).append(df['q8']).append(df['q9']).append(df['q10']).append(df['q11']).append(df['q12']).unique()\n",
            "<ipython-input-8-c5dafc58e4be>:5: FutureWarning: The series.append method is deprecated and will be removed from pandas in a future version. Use pandas.concat instead.\n",
            "  unique_ans_fr = df['q1'].append(df['q2']).append(df['q3']).append(df['q4']).append(df['q5']).append(df['q6']).append(df['q7']).append(df['q8']).append(df['q9']).append(df['q10']).append(df['q11']).append(df['q12']).unique()\n",
            "<ipython-input-8-c5dafc58e4be>:5: FutureWarning: The series.append method is deprecated and will be removed from pandas in a future version. Use pandas.concat instead.\n",
            "  unique_ans_fr = df['q1'].append(df['q2']).append(df['q3']).append(df['q4']).append(df['q5']).append(df['q6']).append(df['q7']).append(df['q8']).append(df['q9']).append(df['q10']).append(df['q11']).append(df['q12']).unique()\n",
            "<ipython-input-8-c5dafc58e4be>:5: FutureWarning: The series.append method is deprecated and will be removed from pandas in a future version. Use pandas.concat instead.\n",
            "  unique_ans_fr = df['q1'].append(df['q2']).append(df['q3']).append(df['q4']).append(df['q5']).append(df['q6']).append(df['q7']).append(df['q8']).append(df['q9']).append(df['q10']).append(df['q11']).append(df['q12']).unique()\n",
            "<ipython-input-8-c5dafc58e4be>:5: FutureWarning: The series.append method is deprecated and will be removed from pandas in a future version. Use pandas.concat instead.\n",
            "  unique_ans_fr = df['q1'].append(df['q2']).append(df['q3']).append(df['q4']).append(df['q5']).append(df['q6']).append(df['q7']).append(df['q8']).append(df['q9']).append(df['q10']).append(df['q11']).append(df['q12']).unique()\n",
            "<ipython-input-8-c5dafc58e4be>:5: FutureWarning: The series.append method is deprecated and will be removed from pandas in a future version. Use pandas.concat instead.\n",
            "  unique_ans_fr = df['q1'].append(df['q2']).append(df['q3']).append(df['q4']).append(df['q5']).append(df['q6']).append(df['q7']).append(df['q8']).append(df['q9']).append(df['q10']).append(df['q11']).append(df['q12']).unique()\n",
            "<ipython-input-8-c5dafc58e4be>:5: FutureWarning: The series.append method is deprecated and will be removed from pandas in a future version. Use pandas.concat instead.\n",
            "  unique_ans_fr = df['q1'].append(df['q2']).append(df['q3']).append(df['q4']).append(df['q5']).append(df['q6']).append(df['q7']).append(df['q8']).append(df['q9']).append(df['q10']).append(df['q11']).append(df['q12']).unique()\n"
          ]
        }
      ]
    },
    {
      "cell_type": "code",
      "source": [
        "#creating table with questions in French and English\n",
        "unique_key = pd.DataFrame()\n",
        "unique_key['Questions - French'] = unique_ans_fr\n",
        "unique_key['Questions - English'] = unique_ans_en\n",
        "\n",
        "unique_key['Questions - English'] = unique_key['Questions - English'].replace(['Rather in agreement'],'Somewhat agree')\n",
        "unique_key['Questions - English'] = unique_key['Questions - English'].replace(['Rather disagree'],'Somewhat disagree')\n",
        "unique_key['Questions - English'] = unique_key['Questions - English'].replace(['Nope'],'NaN')\n",
        "unique_key['Questions - English'] = unique_key['Questions - English'].replace(['Happy'],'Gay')\n",
        "\n",
        "\n",
        "#removing the duplicate \"Other\"\n",
        "unique_key = unique_key.drop(labels=60, axis=0)\n",
        "unique_key"
      ],
      "metadata": {
        "colab": {
          "base_uri": "https://localhost:8080/",
          "height": 424
        },
        "id": "Oi2eQikC8JVi",
        "outputId": "8796f528-7eff-401f-acc1-0cd60ef0265b"
      },
      "execution_count": null,
      "outputs": [
        {
          "output_type": "execute_result",
          "data": {
            "text/plain": [
              "            Questions - French Questions - English\n",
              "0            PlutÃ´t en accord      Somewhat agree\n",
              "1        PlutÃ´t en dÃ©saccord   Somewhat disagree\n",
              "2       Tout Ã  fait en accord       Totally agree\n",
              "3   Tout Ã  fait en dÃ©saccord    Totally disagree\n",
              "4                   Au travail             At work\n",
              "..                         ...                 ...\n",
              "57                  Bisexuelle            Bisexual\n",
              "58                        Gaie                 Gay\n",
              "59                   Asexuelle             Asexual\n",
              "61            HÃ©tÃ©rosexuelle        heterosexual\n",
              "62           En questionnement      In questioning\n",
              "\n",
              "[62 rows x 2 columns]"
            ],
            "text/html": [
              "\n",
              "\n",
              "  <div id=\"df-f193aabd-c198-4c11-a71a-f7ca36f7a1e9\">\n",
              "    <div class=\"colab-df-container\">\n",
              "      <div>\n",
              "<style scoped>\n",
              "    .dataframe tbody tr th:only-of-type {\n",
              "        vertical-align: middle;\n",
              "    }\n",
              "\n",
              "    .dataframe tbody tr th {\n",
              "        vertical-align: top;\n",
              "    }\n",
              "\n",
              "    .dataframe thead th {\n",
              "        text-align: right;\n",
              "    }\n",
              "</style>\n",
              "<table border=\"1\" class=\"dataframe\">\n",
              "  <thead>\n",
              "    <tr style=\"text-align: right;\">\n",
              "      <th></th>\n",
              "      <th>Questions - French</th>\n",
              "      <th>Questions - English</th>\n",
              "    </tr>\n",
              "  </thead>\n",
              "  <tbody>\n",
              "    <tr>\n",
              "      <th>0</th>\n",
              "      <td>PlutÃ´t en accord</td>\n",
              "      <td>Somewhat agree</td>\n",
              "    </tr>\n",
              "    <tr>\n",
              "      <th>1</th>\n",
              "      <td>PlutÃ´t en dÃ©saccord</td>\n",
              "      <td>Somewhat disagree</td>\n",
              "    </tr>\n",
              "    <tr>\n",
              "      <th>2</th>\n",
              "      <td>Tout Ã  fait en accord</td>\n",
              "      <td>Totally agree</td>\n",
              "    </tr>\n",
              "    <tr>\n",
              "      <th>3</th>\n",
              "      <td>Tout Ã  fait en dÃ©saccord</td>\n",
              "      <td>Totally disagree</td>\n",
              "    </tr>\n",
              "    <tr>\n",
              "      <th>4</th>\n",
              "      <td>Au travail</td>\n",
              "      <td>At work</td>\n",
              "    </tr>\n",
              "    <tr>\n",
              "      <th>...</th>\n",
              "      <td>...</td>\n",
              "      <td>...</td>\n",
              "    </tr>\n",
              "    <tr>\n",
              "      <th>57</th>\n",
              "      <td>Bisexuelle</td>\n",
              "      <td>Bisexual</td>\n",
              "    </tr>\n",
              "    <tr>\n",
              "      <th>58</th>\n",
              "      <td>Gaie</td>\n",
              "      <td>Gay</td>\n",
              "    </tr>\n",
              "    <tr>\n",
              "      <th>59</th>\n",
              "      <td>Asexuelle</td>\n",
              "      <td>Asexual</td>\n",
              "    </tr>\n",
              "    <tr>\n",
              "      <th>61</th>\n",
              "      <td>HÃ©tÃ©rosexuelle</td>\n",
              "      <td>heterosexual</td>\n",
              "    </tr>\n",
              "    <tr>\n",
              "      <th>62</th>\n",
              "      <td>En questionnement</td>\n",
              "      <td>In questioning</td>\n",
              "    </tr>\n",
              "  </tbody>\n",
              "</table>\n",
              "<p>62 rows × 2 columns</p>\n",
              "</div>\n",
              "      <button class=\"colab-df-convert\" onclick=\"convertToInteractive('df-f193aabd-c198-4c11-a71a-f7ca36f7a1e9')\"\n",
              "              title=\"Convert this dataframe to an interactive table.\"\n",
              "              style=\"display:none;\">\n",
              "\n",
              "  <svg xmlns=\"http://www.w3.org/2000/svg\" height=\"24px\"viewBox=\"0 0 24 24\"\n",
              "       width=\"24px\">\n",
              "    <path d=\"M0 0h24v24H0V0z\" fill=\"none\"/>\n",
              "    <path d=\"M18.56 5.44l.94 2.06.94-2.06 2.06-.94-2.06-.94-.94-2.06-.94 2.06-2.06.94zm-11 1L8.5 8.5l.94-2.06 2.06-.94-2.06-.94L8.5 2.5l-.94 2.06-2.06.94zm10 10l.94 2.06.94-2.06 2.06-.94-2.06-.94-.94-2.06-.94 2.06-2.06.94z\"/><path d=\"M17.41 7.96l-1.37-1.37c-.4-.4-.92-.59-1.43-.59-.52 0-1.04.2-1.43.59L10.3 9.45l-7.72 7.72c-.78.78-.78 2.05 0 2.83L4 21.41c.39.39.9.59 1.41.59.51 0 1.02-.2 1.41-.59l7.78-7.78 2.81-2.81c.8-.78.8-2.07 0-2.86zM5.41 20L4 18.59l7.72-7.72 1.47 1.35L5.41 20z\"/>\n",
              "  </svg>\n",
              "      </button>\n",
              "\n",
              "\n",
              "\n",
              "    <div id=\"df-b45a11bc-3d0d-4398-ac2b-5e2282b62f96\">\n",
              "      <button class=\"colab-df-quickchart\" onclick=\"quickchart('df-b45a11bc-3d0d-4398-ac2b-5e2282b62f96')\"\n",
              "              title=\"Suggest charts.\"\n",
              "              style=\"display:none;\">\n",
              "\n",
              "<svg xmlns=\"http://www.w3.org/2000/svg\" height=\"24px\"viewBox=\"0 0 24 24\"\n",
              "     width=\"24px\">\n",
              "    <g>\n",
              "        <path d=\"M19 3H5c-1.1 0-2 .9-2 2v14c0 1.1.9 2 2 2h14c1.1 0 2-.9 2-2V5c0-1.1-.9-2-2-2zM9 17H7v-7h2v7zm4 0h-2V7h2v10zm4 0h-2v-4h2v4z\"/>\n",
              "    </g>\n",
              "</svg>\n",
              "      </button>\n",
              "    </div>\n",
              "\n",
              "<style>\n",
              "  .colab-df-quickchart {\n",
              "    background-color: #E8F0FE;\n",
              "    border: none;\n",
              "    border-radius: 50%;\n",
              "    cursor: pointer;\n",
              "    display: none;\n",
              "    fill: #1967D2;\n",
              "    height: 32px;\n",
              "    padding: 0 0 0 0;\n",
              "    width: 32px;\n",
              "  }\n",
              "\n",
              "  .colab-df-quickchart:hover {\n",
              "    background-color: #E2EBFA;\n",
              "    box-shadow: 0px 1px 2px rgba(60, 64, 67, 0.3), 0px 1px 3px 1px rgba(60, 64, 67, 0.15);\n",
              "    fill: #174EA6;\n",
              "  }\n",
              "\n",
              "  [theme=dark] .colab-df-quickchart {\n",
              "    background-color: #3B4455;\n",
              "    fill: #D2E3FC;\n",
              "  }\n",
              "\n",
              "  [theme=dark] .colab-df-quickchart:hover {\n",
              "    background-color: #434B5C;\n",
              "    box-shadow: 0px 1px 3px 1px rgba(0, 0, 0, 0.15);\n",
              "    filter: drop-shadow(0px 1px 2px rgba(0, 0, 0, 0.3));\n",
              "    fill: #FFFFFF;\n",
              "  }\n",
              "</style>\n",
              "\n",
              "    <script>\n",
              "      async function quickchart(key) {\n",
              "        const containerElement = document.querySelector('#' + key);\n",
              "        const charts = await google.colab.kernel.invokeFunction(\n",
              "            'suggestCharts', [key], {});\n",
              "      }\n",
              "    </script>\n",
              "\n",
              "      <script>\n",
              "\n",
              "function displayQuickchartButton(domScope) {\n",
              "  let quickchartButtonEl =\n",
              "    domScope.querySelector('#df-b45a11bc-3d0d-4398-ac2b-5e2282b62f96 button.colab-df-quickchart');\n",
              "  quickchartButtonEl.style.display =\n",
              "    google.colab.kernel.accessAllowed ? 'block' : 'none';\n",
              "}\n",
              "\n",
              "        displayQuickchartButton(document);\n",
              "      </script>\n",
              "      <style>\n",
              "    .colab-df-container {\n",
              "      display:flex;\n",
              "      flex-wrap:wrap;\n",
              "      gap: 12px;\n",
              "    }\n",
              "\n",
              "    .colab-df-convert {\n",
              "      background-color: #E8F0FE;\n",
              "      border: none;\n",
              "      border-radius: 50%;\n",
              "      cursor: pointer;\n",
              "      display: none;\n",
              "      fill: #1967D2;\n",
              "      height: 32px;\n",
              "      padding: 0 0 0 0;\n",
              "      width: 32px;\n",
              "    }\n",
              "\n",
              "    .colab-df-convert:hover {\n",
              "      background-color: #E2EBFA;\n",
              "      box-shadow: 0px 1px 2px rgba(60, 64, 67, 0.3), 0px 1px 3px 1px rgba(60, 64, 67, 0.15);\n",
              "      fill: #174EA6;\n",
              "    }\n",
              "\n",
              "    [theme=dark] .colab-df-convert {\n",
              "      background-color: #3B4455;\n",
              "      fill: #D2E3FC;\n",
              "    }\n",
              "\n",
              "    [theme=dark] .colab-df-convert:hover {\n",
              "      background-color: #434B5C;\n",
              "      box-shadow: 0px 1px 3px 1px rgba(0, 0, 0, 0.15);\n",
              "      filter: drop-shadow(0px 1px 2px rgba(0, 0, 0, 0.3));\n",
              "      fill: #FFFFFF;\n",
              "    }\n",
              "  </style>\n",
              "\n",
              "      <script>\n",
              "        const buttonEl =\n",
              "          document.querySelector('#df-f193aabd-c198-4c11-a71a-f7ca36f7a1e9 button.colab-df-convert');\n",
              "        buttonEl.style.display =\n",
              "          google.colab.kernel.accessAllowed ? 'block' : 'none';\n",
              "\n",
              "        async function convertToInteractive(key) {\n",
              "          const element = document.querySelector('#df-f193aabd-c198-4c11-a71a-f7ca36f7a1e9');\n",
              "          const dataTable =\n",
              "            await google.colab.kernel.invokeFunction('convertToInteractive',\n",
              "                                                     [key], {});\n",
              "          if (!dataTable) return;\n",
              "\n",
              "          const docLinkHtml = 'Like what you see? Visit the ' +\n",
              "            '<a target=\"_blank\" href=https://colab.research.google.com/notebooks/data_table.ipynb>data table notebook</a>'\n",
              "            + ' to learn more about interactive tables.';\n",
              "          element.innerHTML = '';\n",
              "          dataTable['output_type'] = 'display_data';\n",
              "          await google.colab.output.renderOutput(dataTable, element);\n",
              "          const docLink = document.createElement('div');\n",
              "          docLink.innerHTML = docLinkHtml;\n",
              "          element.appendChild(docLink);\n",
              "        }\n",
              "      </script>\n",
              "    </div>\n",
              "  </div>\n"
            ]
          },
          "metadata": {},
          "execution_count": 16
        }
      ]
    },
    {
      "cell_type": "code",
      "source": [
        "#replacing values in the French dataset with the English translations\n",
        "for i in range(len(df.columns)):\n",
        "  for j in range(len(df)):\n",
        "    for k in range(62):\n",
        "      if df.iloc[j,i] == unique_key.iloc[k,0]:\n",
        "        df.iloc[j,i] = unique_key.iloc[k,1]"
      ],
      "metadata": {
        "id": "MoNTKsmh8LeF"
      },
      "execution_count": null,
      "outputs": []
    },
    {
      "cell_type": "code",
      "source": [
        "#downloading the resulting new english dataset\n",
        "from google.colab import files\n",
        "df.to_csv('dataset_translated.csv', encoding = 'utf-8-sig')\n",
        "files.download('dataset_translated.csv')"
      ],
      "metadata": {
        "colab": {
          "base_uri": "https://localhost:8080/",
          "height": 17
        },
        "id": "G12m_1c38NDp",
        "outputId": "de56808c-3f35-4168-d4e6-98c7faee6417"
      },
      "execution_count": null,
      "outputs": [
        {
          "output_type": "display_data",
          "data": {
            "text/plain": [
              "<IPython.core.display.Javascript object>"
            ],
            "application/javascript": [
              "\n",
              "    async function download(id, filename, size) {\n",
              "      if (!google.colab.kernel.accessAllowed) {\n",
              "        return;\n",
              "      }\n",
              "      const div = document.createElement('div');\n",
              "      const label = document.createElement('label');\n",
              "      label.textContent = `Downloading \"${filename}\": `;\n",
              "      div.appendChild(label);\n",
              "      const progress = document.createElement('progress');\n",
              "      progress.max = size;\n",
              "      div.appendChild(progress);\n",
              "      document.body.appendChild(div);\n",
              "\n",
              "      const buffers = [];\n",
              "      let downloaded = 0;\n",
              "\n",
              "      const channel = await google.colab.kernel.comms.open(id);\n",
              "      // Send a message to notify the kernel that we're ready.\n",
              "      channel.send({})\n",
              "\n",
              "      for await (const message of channel.messages) {\n",
              "        // Send a message to notify the kernel that we're ready.\n",
              "        channel.send({})\n",
              "        if (message.buffers) {\n",
              "          for (const buffer of message.buffers) {\n",
              "            buffers.push(buffer);\n",
              "            downloaded += buffer.byteLength;\n",
              "            progress.value = downloaded;\n",
              "          }\n",
              "        }\n",
              "      }\n",
              "      const blob = new Blob(buffers, {type: 'application/binary'});\n",
              "      const a = document.createElement('a');\n",
              "      a.href = window.URL.createObjectURL(blob);\n",
              "      a.download = filename;\n",
              "      div.appendChild(a);\n",
              "      a.click();\n",
              "      div.remove();\n",
              "    }\n",
              "  "
            ]
          },
          "metadata": {}
        },
        {
          "output_type": "display_data",
          "data": {
            "text/plain": [
              "<IPython.core.display.Javascript object>"
            ],
            "application/javascript": [
              "download(\"download_bde57c59-6aa4-4e63-97d7-73440343010a\", \"dataset_translated.csv\", 29928969)"
            ]
          },
          "metadata": {}
        }
      ]
    }
  ]
}