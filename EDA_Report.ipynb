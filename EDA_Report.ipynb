{
  "nbformat": 4,
  "nbformat_minor": 0,
  "metadata": {
    "colab": {
      "provenance": [],
      "authorship_tag": "ABX9TyNYbOnsASbFRfNj2pTg5NIX",
      "include_colab_link": true
    },
    "kernelspec": {
      "name": "python3",
      "display_name": "Python 3"
    },
    "language_info": {
      "name": "python"
    }
  },
  "cells": [
    {
      "cell_type": "markdown",
      "metadata": {
        "id": "view-in-github",
        "colab_type": "text"
      },
      "source": [
        "<a href=\"https://colab.research.google.com/github/PenelopeRosswillTMU/CIND820_Capstone/blob/main/EDA_Report.ipynb\" target=\"_parent\"><img src=\"https://colab.research.google.com/assets/colab-badge.svg\" alt=\"Open In Colab\"/></a>"
      ]
    },
    {
      "cell_type": "code",
      "execution_count": null,
      "metadata": {
        "id": "1sPxvmYFaLqq"
      },
      "outputs": [],
      "source": [
        "import pandas as pd\n",
        "import numpy as np\n",
        "import matplotlib\n",
        "import matplotlib.pyplot as plt\n",
        "from sklearn.model_selection import train_test_split\n",
        "from sklearn.preprocessing import LabelEncoder\n",
        "from sklearn.preprocessing import OrdinalEncoder\n",
        "from sklearn.feature_selection import SelectKBest\n",
        "from sklearn.feature_selection import chi2\n",
        "from sklearn.feature_selection import mutual_info_classif\n",
        "from sklearn.linear_model import LogisticRegression\n",
        "from sklearn.metrics import accuracy_score\n",
        "import seaborn as sns\n",
        "import missingno\n",
        "import warnings\n",
        "warnings.filterwarnings(\"ignore\")\n",
        "%matplotlib inline\n",
        "#!pip install ydata_profiling\n",
        "#from ydata_profiling import ProfileReport\n",
        "#!pip install --upgrade Pillow"
      ]
    },
    {
      "cell_type": "code",
      "source": [
        "#uploading dataset from survey\n",
        "dataset_url = 'https://raw.githubusercontent.com/PenelopeRosswillTMU/CIND820_Capstone/main/sondage_communautes_lgbtq2plus.csv?token=GHSAT0AAAAAACDVSARJMJO74J6FUAERHAECZEIUP6Q'\n",
        "dataDF = pd.read_csv(dataset_url)\n",
        "\n",
        "block1_url = 'https://raw.githubusercontent.com/PenelopeRosswillTMU/CIND820_Capstone/main/block_1.csv'\n",
        "DF_block1 = pd.read_csv(block1_url)\n",
        "\n",
        "block2_url = 'https://raw.githubusercontent.com/PenelopeRosswillTMU/CIND820_Capstone/main/block_2.csv'\n",
        "DF_block2 = pd.read_csv(block2_url)\n",
        "\n",
        "block3_url = 'https://raw.githubusercontent.com/PenelopeRosswillTMU/CIND820_Capstone/main/block_3.csv'\n",
        "DF_block3 = pd.read_csv(block3_url)\n",
        "\n",
        "block5_url = 'https://raw.githubusercontent.com/PenelopeRosswillTMU/CIND820_Capstone/main/block_5.csv'\n",
        "DF_block5 = pd.read_csv(block5_url)\n",
        "\n",
        "DF_block1.columns = ['id','How many years have you lived in Montreal?','What age group are you in?','How do you identify yourself?','Do you identify as a trans person, or have you had a trans background at some point in your life?','What is your sexual orientation?','What is your last level of studies completed?','What language do you speak most often at home?','Are you a visible minority? (Definition from the Ministry of Immigration, Diversity and Inclusion )','Are you part of an ethnocultural minority? (Definition from the Ministry of Immigration, Diversity and Inclusion)','Are you a member of a First Nation or Inuit Nation?','What is the income of your household (that is, of all the people residing with you, including yourself)?','Do you agree with this statement: “in general, the services of the Ville de Montréal meet my needs”?','Do you agree with this statement: \"The fear of being subjected to unfavorable or differential treatment\" because of my gender identity and expression or my sexual orientation constitutes an obstacle to the use of one or more services of the City of Montreal”?','q6 Attribute','Specify for which service(s). Check all that apply:','q7 Attribute','Do you find that you have easy access to services adapted to your needs in Montreal? Please note that some of these services are offered by parties other than the Ville de Montréal.','q8 Attribute','Do you have to travel a long distance (more than 5 km) to access services adapted to your needs in Montreal? Please note that some of these services are offered by parties other than the Ville de Montréal.',]\n",
        "DF_block2.columns = ['id','How many years have you lived in Montreal?','What age group are you in?','How do you identify yourself?','Do you identify as a trans person, or have you had a trans background at some point in your life?','What is your sexual orientation?','What is your last level of studies completed?','What language do you speak most often at home?','Are you a visible minority? (Definition from the Ministry of Immigration, Diversity and Inclusion )','Are you part of an ethnocultural minority? (Definition from the Ministry of Immigration, Diversity and Inclusion)','Are you a member of a First Nation or Inuit Nation?','What is the income of your household (that is, of all the people residing with you, including yourself)?','Do you agree with this statement: “in general, I feel comfortable being myself in my daily activities in Montreal”?','q10 Attribute','In the past two years, have you experienced unfavorable or differential treatment because of your gender identity and expression or your sexual orientation? Check all that apply. Please note that some of these services are offered by parties other than the Ville de Montréal.','q11 Attribute','Give your level of agreement with each of the following statements regarding the Montreal reality. Please note that some of these services are not offered by the City of Montreal.','Do LGBTQ+ communities have enough visibility in the public space?']\n",
        "DF_block3.columns = ['id','How many years have you lived in Montreal?','What age group are you in?','How do you identify yourself?','Do you identify as a trans person, or have you had a trans background at some point in your life?','What is your sexual orientation?','What is your last level of studies completed?','What language do you speak most often at home?','Are you a visible minority? (Definition from the Ministry of Immigration, Diversity and Inclusion )','Are you part of an ethnocultural minority? (Definition from the Ministry of Immigration, Diversity and Inclusion)','Are you a member of a First Nation or Inuit Nation?','What is the income of your household (that is, of all the people residing with you, including yourself)?','Do you ever feel unsafe in Montreal?','q14 Attribute','In the past two years, have you experienced any of the following behaviors because of your gender identity and expression or sexual orientation? Check all that apply.','q15 Attribute','If you have e xperienced any o f these b ehaviors, please indicate where. Check all that apply.','q17 Attribute','If you did not file a complaint, why? Check all that apply.']\n",
        "DF_block5.columns = ['id','How many years have you lived in Montreal?','What age group are you in?','How do you identify yourself?','Do you identify as a trans person, or have you had a trans background at some point in your life?','What is your sexual orientation?','What is your last level of studies completed?','What language do you speak most often at home?','Are you a visible minority? (Definition from the Ministry of Immigration, Diversity and Inclusion )','Are you part of an ethnocultural minority? (Definition from the Ministry of Immigration, Diversity and Inclusion)','Are you a member of a First Nation or Inuit Nation?','What is the income of your household (that is, of all the people residing with you, including yourself)?','q22 Attribute','How can the City better support Montreals LGBTQ+ communities? Number each of the following courses of action from 1 to 10. You must assign a different rank to each action track.','q23 Attribute','How can the City give more visibility to LGBTQ+ communities in the public space? Check all that apply.']"
      ],
      "metadata": {
        "id": "iIvrkkK_aTuD"
      },
      "execution_count": null,
      "outputs": []
    },
    {
      "cell_type": "code",
      "source": [
        "#creating EDA reports\n",
        "EDA_Report_block1 = ProfileReport(DF_block1, title=\"EDA Report_block1\", explorative=True)\n",
        "EDA_Report_block1.to_file(output_file='EDA Report_block1.html')\n",
        "\n",
        "EDA_Report_block2 = ProfileReport(DF_block2, title=\"EDA Report_block2\", explorative=True)\n",
        "EDA_Report_block2.to_file(output_file='EDA Report_block2.html')\n",
        "\n",
        "EDA_Report_block3 = ProfileReport(DF_block3, title=\"EDA Report_block3\", explorative=True)\n",
        "EDA_Report_block3.to_file(output_file='EDA Report_block3.html')\n",
        "\n",
        "EDA_Report_block5 = ProfileReport(DF_block5, title=\"EDA Report_block5\", explorative=True)\n",
        "EDA_Report_block5.to_file(output_file='EDA Report_block5.html')"
      ],
      "metadata": {
        "id": "qlmcMNflaT_f"
      },
      "execution_count": null,
      "outputs": []
    },
    {
      "cell_type": "code",
      "source": [],
      "metadata": {
        "id": "XBDFHIg-aUNK"
      },
      "execution_count": null,
      "outputs": []
    }
  ]
}